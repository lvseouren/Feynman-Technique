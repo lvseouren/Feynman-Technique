{
 "cells": [
  {
   "cell_type": "markdown",
   "metadata": {},
   "source": [
    "# URP\n",
    "\n",
    "这里指的是Unity的URP，Universal Render Pipeline\n",
    "翻译成中文就是 通用渲染管线"
   ]
  },
  {
   "cell_type": "markdown",
   "metadata": {},
   "source": [
    "要解释URP，那就不得不提SRP（Scriptable Render Pipeline可编程渲染管线）\n",
    "\n",
    "简单来说，URP就是Unity帮你写好的SRP（听起来有点像固定管线。。。固定管线又是啥？我记得DX里固定管线指的就是整个渲染流程都是固定的，你能做的只是改改某些配置——不知道Unity是不是这样）\n",
    "Unity似乎没有固定管线的概念，只有一个BRP（Built-in Render Pipeline内置渲染管线）作为默认渲染管线，然后它把渲染管线这个概念（分为culling，rendering和post-processing)抽象出来了，允许你选择不同的渲染管线。\n",
    "而SRP指的就是（顾名思义）你可以写代码去控制整个渲染流程的方方面面，这么一个流水线。"
   ]
  },
  {
   "cell_type": "markdown",
   "metadata": {},
   "source": [
    "这个网站可以看到BRP和URP的区别\n",
    "https://docs.unity3d.com/Packages/com.unity.render-pipelines.universal@8.2/manual/universalrp-builtin-feature-comparison.html\n",
    "（看了一下，好像很多BRP support的，URP是not supported啊。。。不是说好的scriptable吗？怎么会有not support的啊？额，URP并不等同于SRP，我的理解是URP是以SRP的方式实现的，但是URP一旦做好了，其实就\n",
    "不再scriptable了，而是相当于另一种BRP了）"
   ]
  },
  {
   "cell_type": "markdown",
   "metadata": {},
   "source": [
    "话说SRP和Shader有啥区别？Shader不也控制了渲染管线吗？Shader也可以控制裁剪啊，也可以控制渲染啊，也可以控制后处理啊（存疑，暂时对这个概念不是很了解）"
   ]
  }
 ],
 "metadata": {
  "kernelspec": {
   "display_name": "Python 3",
   "language": "python",
   "name": "python3"
  },
  "language_info": {
   "codemirror_mode": {
    "name": "ipython",
    "version": 3
   },
   "file_extension": ".py",
   "mimetype": "text/x-python",
   "name": "python",
   "nbconvert_exporter": "python",
   "pygments_lexer": "ipython3",
   "version": "3.7.0"
  }
 },
 "nbformat": 4,
 "nbformat_minor": 2
}
