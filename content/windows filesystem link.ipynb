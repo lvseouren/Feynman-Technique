{
 "cells": [
  {
   "cell_type": "markdown",
   "metadata": {},
   "source": [
    "# windows hard links junctions and symbolic link"
   ]
  },
  {
   "cell_type": "markdown",
   "metadata": {},
   "source": [
    "hardlink只能指向同磁盘下的，而junction可以指向不同磁盘的；\n",
    "两者都不能指向非本地的，比如网络上的一个虚拟盘\n",
    "\n",
    "hard link占用磁盘大小，只能指向文件，不能指向文件夹，删掉源文件不会影响harklink；hardlink不能指向nil\n",
    "Junction不占用磁盘大小，只能指向文件夹；可以指向nil\n",
    "symbolic link既能指向文件又能指向文件夹，也不占用磁盘空间，相当于一个指针；可以指向nil\n",
    "\n",
    "以上结论由cmd下使用mklink命令得出"
   ]
  }
 ],
 "metadata": {
  "kernelspec": {
   "display_name": "Python 3",
   "language": "python",
   "name": "python3"
  },
  "language_info": {
   "codemirror_mode": {
    "name": "ipython",
    "version": 3
   },
   "file_extension": ".py",
   "mimetype": "text/x-python",
   "name": "python",
   "nbconvert_exporter": "python",
   "pygments_lexer": "ipython3",
   "version": "3.7.0"
  }
 },
 "nbformat": 4,
 "nbformat_minor": 2
}
