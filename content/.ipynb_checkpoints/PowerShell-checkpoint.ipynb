{
 "cells": [
  {
   "cell_type": "markdown",
   "metadata": {},
   "source": [
    "# PowerShell\n",
    "PowerShell是一个程序\n",
    "程序就是运行在计算机上的指令集合，比如说你平时玩的王者荣耀就是程序。\n",
    "PowerShell的功能就是用来让你和操作系统进行交互的。你可以通过它来做任何操作系统支持的事情。怎么做呢？通过在Powershell里输入命令。\n",
    "什么是命令？\n",
    "命令其实就是一句话，但是是以Powershell能够理解的形式表示，也即你需要满足它的语法，否则是无效的。"
   ]
  }
 ],
 "metadata": {
  "kernelspec": {
   "display_name": "Python 3",
   "language": "python",
   "name": "python3"
  },
  "language_info": {
   "codemirror_mode": {
    "name": "ipython",
    "version": 3
   },
   "file_extension": ".py",
   "mimetype": "text/x-python",
   "name": "python",
   "nbconvert_exporter": "python",
   "pygments_lexer": "ipython3",
   "version": "3.7.0"
  }
 },
 "nbformat": 4,
 "nbformat_minor": 2
}
